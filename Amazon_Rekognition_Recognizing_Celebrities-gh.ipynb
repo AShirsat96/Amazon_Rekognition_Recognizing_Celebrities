{
 "cells": [
  {
   "cell_type": "code",
   "execution_count": 1,
   "id": "f8e61346",
   "metadata": {},
   "outputs": [],
   "source": [
    "# Install once only - python official library from AWS\n",
    "# !pip install boto3"
   ]
  },
  {
   "cell_type": "markdown",
   "id": "3723f28a",
   "metadata": {},
   "source": [
    "### define configuration"
   ]
  },
  {
   "cell_type": "code",
   "execution_count": 2,
   "id": "200ab005",
   "metadata": {},
   "outputs": [],
   "source": [
    "aws_accesskey = <Your Access Key>\n",
    "aws_secretaccess = <Your secret access key>\n",
    "myregion= <your region>"
   ]
  },
  {
   "cell_type": "code",
   "execution_count": 3,
   "id": "533234ad",
   "metadata": {},
   "outputs": [],
   "source": [
    "import boto3"
   ]
  },
  {
   "cell_type": "code",
   "execution_count": 4,
   "id": "df4400b2",
   "metadata": {},
   "outputs": [],
   "source": [
    "def Recognise_Celebrity(aws_access,aws_secret, aws_region,photo_name):\n",
    "    Rekognition_client = boto3.client('rekognition',aws_access_key_id=aws_access, aws_secret_access_key=aws_secret, region_name =aws_region)\n",
    "    with open(photo_name, 'rb') as image:\n",
    "        response = Rekognition_client.recognize_celebrities(Image={'Bytes': image.read()})\n",
    "    print('Detected faces for ' + photo_name.split(\"\\\\\")[-1])\n",
    "    for celebrity in response['CelebrityFaces']:\n",
    "        print('Name: ' + celebrity['Name'])\n",
    "        print('Id: ' + celebrity['Id'])\n",
    "        print('KnownGender: ' + celebrity['KnownGender']['Type'])\n",
    "        print('Smile: ' + str(celebrity['Face']['Smile']['Value']))\n",
    "        print('Position:')\n",
    "        print('   Left: ' + '{:.2f}'.format(celebrity['Face']['BoundingBox']['Height']))\n",
    "        print('   Top: ' + '{:.2f}'.format(celebrity['Face']['BoundingBox']['Top']))\n",
    "        print('Info')\n",
    "        for url in celebrity['Urls']:\n",
    "            print('   ' + url)\n",
    "        print()\n",
    "    return len(response['CelebrityFaces'])\n"
   ]
  },
  {
   "cell_type": "code",
   "execution_count": 5,
   "id": "9cb8f769",
   "metadata": {},
   "outputs": [
    {
     "name": "stdout",
     "output_type": "stream",
     "text": [
      "Detected faces for Celebrities_Group.jpg\n",
      "Name: Bradley Cooper\n",
      "Id: 1u73Lk\n",
      "KnownGender: Male\n",
      "Smile: True\n",
      "Position:\n",
      "   Left: 0.45\n",
      "   Top: 0.44\n",
      "Info\n",
      "   www.wikidata.org/wiki/Q205707\n",
      "   www.imdb.com/name/nm0177896\n",
      "\n",
      "Name: Jennifer Lawrence\n",
      "Id: 3HD3Qm3e\n",
      "KnownGender: Female\n",
      "Smile: True\n",
      "Position:\n",
      "   Left: 0.30\n",
      "   Top: 0.14\n",
      "Info\n",
      "   www.wikidata.org/wiki/Q189490\n",
      "   www.imdb.com/name/nm2225369\n",
      "\n",
      "Name: Ellen DeGeneres\n",
      "Id: 4aD7HD8R\n",
      "KnownGender: Female\n",
      "Smile: True\n",
      "Position:\n",
      "   Left: 0.34\n",
      "   Top: 0.41\n",
      "Info\n",
      "   www.wikidata.org/wiki/Q483325\n",
      "   www.imdb.com/name/nm0001122\n",
      "\n",
      "Name: Meryl Streep\n",
      "Id: 24Mx5De\n",
      "KnownGender: Female\n",
      "Smile: True\n",
      "Position:\n",
      "   Left: 0.29\n",
      "   Top: 0.33\n",
      "Info\n",
      "   www.wikidata.org/wiki/Q873\n",
      "   www.imdb.com/name/nm0000658\n",
      "\n",
      "Name: Brad Pitt\n",
      "Id: 1q4IR5\n",
      "KnownGender: Male\n",
      "Smile: True\n",
      "Position:\n",
      "   Left: 0.23\n",
      "   Top: 0.00\n",
      "Info\n",
      "   www.wikidata.org/wiki/Q35332\n",
      "   www.imdb.com/name/nm0000093\n",
      "\n",
      "Name: Julia Roberts\n",
      "Id: bz8qt4A\n",
      "KnownGender: Female\n",
      "Smile: True\n",
      "Position:\n",
      "   Left: 0.24\n",
      "   Top: 0.07\n",
      "Info\n",
      "   www.wikidata.org/wiki/Q40523\n",
      "   www.imdb.com/name/nm0000210\n",
      "\n",
      "Name: Kevin Spacey\n",
      "Id: 2YB8Tw8B\n",
      "KnownGender: Male\n",
      "Smile: False\n",
      "Position:\n",
      "   Left: 0.19\n",
      "   Top: 0.09\n",
      "Info\n",
      "   www.wikidata.org/wiki/Q25144\n",
      "   www.imdb.com/name/nm0000228\n",
      "\n"
     ]
    },
    {
     "data": {
      "text/plain": [
       "7"
      ]
     },
     "execution_count": 5,
     "metadata": {},
     "output_type": "execute_result"
    }
   ],
   "source": [
    "Recognise_Celebrity(aws_accesskey,aws_secretaccess,myregion,<your image file path>)"
   ]
  },
  {
   "cell_type": "code",
   "execution_count": 6,
   "id": "ea36a0d0",
   "metadata": {},
   "outputs": [
    {
     "name": "stdout",
     "output_type": "stream",
     "text": [
      "Detected faces for Shah-Rukh-Khan.jpg\n"
     ]
    },
    {
     "data": {
      "text/plain": [
       "0"
      ]
     },
     "execution_count": 6,
     "metadata": {},
     "output_type": "execute_result"
    }
   ],
   "source": [
    "# Failed to detect Shah Rukh Khan in this photo\n",
    "Recognise_Celebrity(aws_accesskey,aws_secretaccess,myregion,<your image file path>)"
   ]
  },
  {
   "cell_type": "code",
   "execution_count": 8,
   "id": "1b34bc44",
   "metadata": {},
   "outputs": [
    {
     "name": "stdout",
     "output_type": "stream",
     "text": [
      "Detected faces for PriyankaChopra.jpg\n",
      "Name: Deniz Orta\n",
      "Id: c63fdc\n",
      "KnownGender: Female\n",
      "Smile: False\n",
      "Position:\n",
      "   Left: 0.15\n",
      "   Top: 0.17\n",
      "Info\n",
      "   www.wikidata.org/wiki/Q72813943\n",
      "   www.imdb.com/name/nm9390655\n",
      "\n"
     ]
    },
    {
     "data": {
      "text/plain": [
       "1"
      ]
     },
     "execution_count": 8,
     "metadata": {},
     "output_type": "execute_result"
    }
   ],
   "source": [
    "Recognise_Celebrity(aws_accesskey,aws_secretaccess,myregion,<your image file path>)\n",
    "# Incorrectly indentified an indian actress Priyanka Chopra as Deniz Orta"
   ]
  },
  {
   "cell_type": "code",
   "execution_count": 10,
   "id": "4be132c0",
   "metadata": {},
   "outputs": [
    {
     "name": "stdout",
     "output_type": "stream",
     "text": [
      "Detected faces for Ranbir-Kapoor.jpg\n",
      "Name: Prabhjot Singh\n",
      "Id: af9a74\n",
      "KnownGender: Male\n",
      "Smile: True\n",
      "Position:\n",
      "   Left: 0.50\n",
      "   Top: 0.18\n",
      "Info\n",
      "   www.wikidata.org/wiki/Q16221178\n",
      "\n"
     ]
    },
    {
     "data": {
      "text/plain": [
       "1"
      ]
     },
     "execution_count": 10,
     "metadata": {},
     "output_type": "execute_result"
    }
   ],
   "source": [
    "Recognise_Celebrity(aws_accesskey,aws_secretaccess,myregion,<your image file path>)\n",
    "# Incorrectly identified Indian actor Ranbir Kapoor as Prabhjot Singh possibly due to his fully grown beard"
   ]
  },
  {
   "cell_type": "code",
   "execution_count": 11,
   "id": "3081a733",
   "metadata": {},
   "outputs": [
    {
     "name": "stdout",
     "output_type": "stream",
     "text": [
      "Detected faces for Christian_Bale.jpg\n",
      "Name: Christian Bale\n",
      "Id: 1bw6uo\n",
      "KnownGender: Male\n",
      "Smile: False\n",
      "Position:\n",
      "   Left: 0.38\n",
      "   Top: 0.20\n",
      "Info\n",
      "   www.wikidata.org/wiki/Q45772\n",
      "   www.imdb.com/name/nm0000288\n",
      "\n"
     ]
    },
    {
     "data": {
      "text/plain": [
       "1"
      ]
     },
     "execution_count": 11,
     "metadata": {},
     "output_type": "execute_result"
    }
   ],
   "source": [
    "Recognise_Celebrity(aws_accesskey,aws_secretaccess,myregion,<your image file path>)"
   ]
  },
  {
   "cell_type": "code",
   "execution_count": 12,
   "id": "fc7a2c01",
   "metadata": {},
   "outputs": [
    {
     "name": "stdout",
     "output_type": "stream",
     "text": [
      "Detected faces for Ranbir_Kapoor.jpg\n",
      "Name: Ranbir Kapoor\n",
      "Id: 25tJ4o2\n",
      "KnownGender: Male\n",
      "Smile: False\n",
      "Position:\n",
      "   Left: 0.42\n",
      "   Top: 0.20\n",
      "Info\n",
      "   www.wikidata.org/wiki/Q1063412\n",
      "   www.imdb.com/name/nm1633541\n",
      "\n"
     ]
    },
    {
     "data": {
      "text/plain": [
       "1"
      ]
     },
     "execution_count": 12,
     "metadata": {},
     "output_type": "execute_result"
    }
   ],
   "source": [
    "Recognise_Celebrity(aws_accesskey,aws_secretaccess,myregion,<your image file path>)"
   ]
  },
  {
   "cell_type": "code",
   "execution_count": 13,
   "id": "7947f823",
   "metadata": {},
   "outputs": [
    {
     "name": "stdout",
     "output_type": "stream",
     "text": [
      "Detected faces for group_bollywood_celebrities.jpg\n",
      "Name: Varun Dhawan\n",
      "Id: 1LO9FO7X\n",
      "KnownGender: Male\n",
      "Smile: False\n",
      "Position:\n",
      "   Left: 0.09\n",
      "   Top: 0.32\n",
      "Info\n",
      "   www.wikidata.org/wiki/Q7916220\n",
      "   www.imdb.com/name/nm3315894\n",
      "\n",
      "Name: Kriti Sanon\n",
      "Id: 1KY1EG1h\n",
      "KnownGender: Female\n",
      "Smile: False\n",
      "Position:\n",
      "   Left: 0.09\n",
      "   Top: 0.33\n",
      "Info\n",
      "   www.wikidata.org/wiki/Q16233540\n",
      "   www.imdb.com/name/nm5305841\n",
      "\n",
      "Name: Hrithik Roshan\n",
      "Id: 2DJ4pE9l\n",
      "KnownGender: Male\n",
      "Smile: False\n",
      "Position:\n",
      "   Left: 0.09\n",
      "   Top: 0.13\n",
      "Info\n",
      "   www.wikidata.org/wiki/Q233619\n",
      "   www.imdb.com/name/nm0004335\n",
      "\n",
      "Name: Mastani\n",
      "Id: 2MF8VY4U\n",
      "KnownGender: Female\n",
      "Smile: False\n",
      "Position:\n",
      "   Left: 0.08\n",
      "   Top: 0.14\n",
      "Info\n",
      "   www.wikidata.org/wiki/Q3785174\n",
      "\n",
      "Name: Katrina Kaif\n",
      "Id: 2g7RK9\n",
      "KnownGender: Female\n",
      "Smile: False\n",
      "Position:\n",
      "   Left: 0.08\n",
      "   Top: 0.16\n",
      "Info\n",
      "   www.wikidata.org/wiki/Q9550\n",
      "   www.imdb.com/name/nm1229940\n",
      "\n",
      "Name: Sonakshi Sinha\n",
      "Id: 1Od6QP4K\n",
      "KnownGender: Female\n",
      "Smile: False\n",
      "Position:\n",
      "   Left: 0.08\n",
      "   Top: 0.17\n",
      "Info\n",
      "   www.wikidata.org/wiki/Q614907\n",
      "   www.imdb.com/name/nm3848064\n",
      "\n"
     ]
    },
    {
     "data": {
      "text/plain": [
       "6"
      ]
     },
     "execution_count": 13,
     "metadata": {},
     "output_type": "execute_result"
    }
   ],
   "source": [
    "# Identified a bollywood actress Deepika Padukone incorrectly as Mastani which was her movie character name.\n",
    "Recognise_Celebrity(aws_accesskey,aws_secretaccess,myregion,<your image file path>)"
   ]
  },
  {
   "cell_type": "code",
   "execution_count": 14,
   "id": "d6d8de04",
   "metadata": {},
   "outputs": [
    {
     "name": "stdout",
     "output_type": "stream",
     "text": [
      "Detected faces for Bollywood_movie_housefull_groupphoto.jpg\n",
      "Name: Sajid Nadiadwala\n",
      "Id: 4By8Ue2M\n",
      "KnownGender: Male\n",
      "Smile: False\n",
      "Position:\n",
      "   Left: 0.16\n",
      "   Top: 0.11\n",
      "Info\n",
      "   www.wikidata.org/wiki/Q3632964\n",
      "   www.imdb.com/name/nm0618898\n",
      "\n",
      "Name: Sajid Khan\n",
      "Id: 43oD3yZ\n",
      "KnownGender: Male\n",
      "Smile: True\n",
      "Position:\n",
      "   Left: 0.16\n",
      "   Top: 0.10\n",
      "Info\n",
      "   www.wikidata.org/wiki/Q3469329\n",
      "   www.imdb.com/name/nm2012857\n",
      "\n",
      "Name: Riteish Deshmukh\n",
      "Id: 3MH5Fj7t\n",
      "KnownGender: Male\n",
      "Smile: True\n",
      "Position:\n",
      "   Left: 0.15\n",
      "   Top: 0.08\n",
      "Info\n",
      "   www.wikidata.org/wiki/Q738291\n",
      "   www.imdb.com/name/nm1299011\n",
      "\n",
      "Name: Deepika Padukone\n",
      "Id: 2zd6yo8M\n",
      "KnownGender: Female\n",
      "Smile: True\n",
      "Position:\n",
      "   Left: 0.15\n",
      "   Top: 0.45\n",
      "Info\n",
      "   www.wikidata.org/wiki/Q159178\n",
      "   www.imdb.com/name/nm2138653\n",
      "\n",
      "Name: Lara Dutta\n",
      "Id: 8945J\n",
      "KnownGender: Female\n",
      "Smile: True\n",
      "Position:\n",
      "   Left: 0.15\n",
      "   Top: 0.41\n",
      "Info\n",
      "   www.wikidata.org/wiki/Q290438\n",
      "   www.imdb.com/name/nm1069034\n",
      "\n",
      "Name: Jiah Khan\n",
      "Id: 3Zv6EU5y\n",
      "KnownGender: Female\n",
      "Smile: True\n",
      "Position:\n",
      "   Left: 0.15\n",
      "   Top: 0.52\n",
      "Info\n",
      "   www.wikidata.org/wiki/Q3595158\n",
      "   www.imdb.com/name/nm2318317\n",
      "\n",
      "Name: Akshay Kumar\n",
      "Id: LB4b9m\n",
      "KnownGender: Male\n",
      "Smile: True\n",
      "Position:\n",
      "   Left: 0.16\n",
      "   Top: 0.07\n",
      "Info\n",
      "   www.wikidata.org/wiki/Q233748\n",
      "   www.imdb.com/name/nm0474774\n",
      "\n",
      "Name: Arjun Rampal\n",
      "Id: 3Dv2FG7l\n",
      "KnownGender: Male\n",
      "Smile: True\n",
      "Position:\n",
      "   Left: 0.15\n",
      "   Top: 0.06\n",
      "Info\n",
      "   www.wikidata.org/wiki/Q442668\n",
      "   www.imdb.com/name/nm0992000\n",
      "\n"
     ]
    },
    {
     "data": {
      "text/plain": [
       "8"
      ]
     },
     "execution_count": 14,
     "metadata": {},
     "output_type": "execute_result"
    }
   ],
   "source": [
    "Recognise_Celebrity(aws_accesskey,aws_secretaccess,myregion,<your image file path>)"
   ]
  }
 ],
 "metadata": {
  "kernelspec": {
   "display_name": "Python 3",
   "language": "python",
   "name": "python3"
  },
  "language_info": {
   "codemirror_mode": {
    "name": "ipython",
    "version": 3
   },
   "file_extension": ".py",
   "mimetype": "text/x-python",
   "name": "python",
   "nbconvert_exporter": "python",
   "pygments_lexer": "ipython3",
   "version": "3.8.8"
  }
 },
 "nbformat": 4,
 "nbformat_minor": 5
}
